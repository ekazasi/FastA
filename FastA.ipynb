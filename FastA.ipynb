{
 "cells": [
  {
   "cell_type": "markdown",
   "id": "1835c6c9",
   "metadata": {},
   "source": [
    "# BC205: Algorithms for Bioinformatics."
   ]
  },
  {
   "cell_type": "markdown",
   "id": "fb3efaa4",
   "metadata": {},
   "source": [
    "### Exercise 3. Implementing a simplified version of the FastA algorithm"
   ]
  },
  {
   "cell_type": "markdown",
   "id": "ac141237",
   "metadata": {},
   "source": [
    "Guide for the constructed FastA algorithm:\n",
    "\n",
    "1) a simple score of +1/0 for word matches/mismatches. This means that S[i] will be incremmented by +1 each time a k-mer is found.\n",
    "2) k=5 as the length of the matched word\n",
    "3) m=20 as the minimum size of matched diagonals (S[i]) that you will keep in each search\n",
    "4) g=3 as the maximum gap size before joining regions\n",
    "5) a total score of 50% of the length of the query sequence to be used as prerequisite\n",
    "6) Final outputs will consist of a list of matched sequences that fulfill the above criteria alongside with their Total Scores.\n",
    "7) Report the highest matching sequence. "
   ]
  },
  {
   "cell_type": "markdown",
   "id": "953fe4c2",
   "metadata": {},
   "source": [
    "- **Download the data**"
   ]
  },
  {
   "cell_type": "code",
   "execution_count": 13,
   "id": "8ef10ddb",
   "metadata": {},
   "outputs": [
    {
     "name": "stdout",
     "output_type": "stream",
     "text": [
      "query.fa already exists. Skipping download.\n",
      "all_yeast_genes_minplus1k.fa already exists. Skipping download.\n"
     ]
    }
   ],
   "source": [
    "import os\n",
    "import requests\n",
    "\n",
    "\n",
    "# create the data directory if it doesn't exist\n",
    "data_dir = \"./data\" # define the path for the data directory\n",
    "if not os.path.exists(data_dir): # check if the directory already exists\n",
    "    os.makedirs(data_dir) # create the directory if it doesn't exist\n",
    "\n",
    "\n",
    "# dictionary with file name and URL\n",
    "file_to_download = {\"query.fa\": \"https://raw.githubusercontent.com/christoforos-nikolaou/BC205/master/files/query.fa\",\n",
    "                    \"all_yeast_genes_minplus1k.fa\": \"https://dl.dropboxusercontent.com/scl/fi/85mp7f5iwirkjtjd3vwcg/all_yeast_genes_minplus1k.fa?rlkey=i4etsyv8zmia2wnagm07nym51&st=am73dxei\"}\n",
    "\n",
    "\n",
    "# download files\n",
    "for filename, url in file_to_download.items():\n",
    "    file_path = os.path.join(data_dir, filename) # create the full file path\n",
    "    if not os.path.exists(file_path): # check if the file already exists and if not download it\n",
    "        print(f\"Downloading {filename} ...\")\n",
    "        response = requests.get(url) # using requests to download the file when needed\n",
    "        if response.status_code == 200:\n",
    "            with open(file_path, 'wb') as f:\n",
    "                f.write(response.content)\n",
    "            print(f\"Downloaded {filename} successfully.\")\n",
    "        else:\n",
    "            print(f\"Failed to download {filename}. Status code: {response.status_code}\")        \n",
    "    else:\n",
    "        print(f\"{filename} already exists. Skipping download.\") # if the file already exists, skip the downloading\n",
    "\n",
    "\n"
   ]
  },
  {
   "cell_type": "code",
   "execution_count": 17,
   "id": "84c3920f",
   "metadata": {},
   "outputs": [
    {
     "name": "stdout",
     "output_type": "stream",
     "text": [
      "GTATATAACCTAAAAAGAAAATTTGATTAACGAATTCAGAACCCACACGCTGAGACAAGGGGCCCCTGATTATACACCTCTGGAAATGGAAATGGTTTGAATGGGCAAAGCCAGGAAGATATTGAGATTTTAACATATATATTATGTGACATTTGCCCTTCTTTTAGATGGTAGATAATGCTTATTTATGTAGCACGGGTCATTCATCATGGATTTGCGGAGTGGAAGACCAAATGATCATTAACCTGCTACCTGCTTTCAGAATCCTAATGATTTCAAAATGGATAACTTTACCTGTCTCTCAAATTCAGGTCTATTATCTCTCCACAAGATGCAAGCATCAATGTTGGCACCACTTTCGATATTGGGCTCACTCAACATGCTCATAACACTTAATAGAATTTTTTCTACACTTTGCACTGGCGACCATCTTTCTTCCGCTAATTCGTACATGTTAGGATCATCACCAGGGGAGTGTAGAATGGATATGCACACTTCCCCATTTGGATAAATATTTGGATGTAGTATGCTGGGTGTGAAAGTAAGTTTAGGTGGAGATAACGGATAGTCTTTAGGAAACTCTAGCTTAGCATTAAAAACACCATCAGCGTATGGCGTATCTGGAGGCCCTTGAATTAGGCAGTCCCAAATGAATATGTTATTCTCCGATTTGGGACCAGCCACTATACCAGGTGGAGAATCTTTAATTAACTGTTGAAGCTCCTTGAGGAGACGTTTCTGAGCGGTTTTCGACATGCTATGCCCTTCCAAATTACACTATTACTAGGGAAGTTCCTTTTAGGATAATCTCCTTCGTACGCTAAACGCCAGAGTTTACTTTGGCGCTTTTCGAGCTCTTGGTTTAGAGGCTGTAATCTCGTTTTCGGGTAATGGCGAAAAGGAGTTATAAGAAGGATCTCGAGACAATAAGCTGCTGCATCTTCGTGAGGTAGATGCGATGAGGCGCCTTGTTTTAAACTTGAAACAGTCTGGTAAGTTCTTCAAGCTCTATCAGAGATGATAATATTTAATGGGAACAAATATGCGTGTGCATCGTGCATCAGAGGGCATCGCTCTTCAACATGCAGGCATTCTCACCGAATGCTAATTAAGGTGAGAACTAGAGGAAGACCTTCACCCATGGCTATCAGAGACGCTATTTTAGTAGACTCTACATCGCAAAGTACAGAATACGAAAATGGTGCACAAATTGAAGGTGACTGCTGCAGCGCAATGAATCAACAGCCAATACTGTTTGTACGTGCCTCTGCTGTTAGAAAGGCAAGAATGATAAACGGAAAATTGCATATATTAATGGAGGAAGGTTTCACTGCTCATGAGCCTAAAGATATTAGCACATTTACCGATGATGGTAACAAATATATCACCGAAACGGAGTTTCTTAGGAAACACTCTCCCAAAGCTCCGGCAACAGGAACAATATCTCCGGACTCTACCAAGTCATCTTCTTCAAGTGAGAAGAAAGAGCGAAGCCGGCTTCAACAGGAGCCTATACGACATTTTTCAAACTGCTGTAAGAAAGATAAATCACAGAACCCAGCTTCTAATGGCAAGACGAACAAGGCACCGTCTGATGACATATTTACGCCATACGGCTCCTTGGAATCTACGTCCGCTTTTAACGATATTTTACAAGAAAACTACAATAGTTCTGTTCCTGGTGCGCATGACAGTTCAGAAACACTCACCCCACAAAGTACAACAACGATTGCTGCTCCTCATTCAAGCGACGTTGCTTCGAAAGTTGAAGTCCTGACTCATAAGGGCATTTTTTTAAGCACGCAGTGCTCTTGTGAAGATGAAAGCTGCCCATGTGTTAATTGTCTAATCCATAGAAGCGAAGAGGAACTGAATTCTTATATTCAACAAAGTGGTGTTCGGCCTTAATTAACTTAAGCAACATCCAATCTAAGATGAAGGATTATCTCCGGAGGATTGTAAATGCCCTGACAAGGACCGCATATGCCTCCTGGGGATAACCTTACTTGTGATGGAT\n"
     ]
    }
   ],
   "source": [
    "query = \"\"\n",
    "with open ('data/query.fa') as f:\n",
    "    for i in f.readlines():\n",
    "        if i.startswith('>'):\n",
    "            continue\n",
    "        query += i.strip()\n",
    "print(query)"
   ]
  },
  {
   "cell_type": "code",
   "execution_count": null,
   "id": "70f10c93",
   "metadata": {},
   "outputs": [],
   "source": [
    "from collections import defaultdict\n",
    "from Bio import SeqIO\n",
    "\n",
    "# Parameters\n",
    "k = 5       # k-mer length\n",
    "m = 20      # min diagonal score\n",
    "g = 3       # max gap to join diagonals\n",
    "threshold_percent = 0.5\n",
    "\n",
    "# Step 1: Build k-mer index from query\n",
    "## The algorithm first looks for short, exact matches between the query sequence and the target sequences.\n",
    "\n",
    "def build_kmer_index(query, k):\n",
    "    kmer_index = defaultdict(list) ## Creates a dictionary where each key will be a k-mer, and its value will be a list of starting positions where that k-mer appears in the query sequence.\n",
    "    for i in range(len(query) - k + 1): ## extract all possible k-mers\n",
    "        kmer = query[i:i + k] ## Extracts the k-mer starting at position i\n",
    "        kmer_index[kmer].append(i) ## Adds the starting position i to the list associated with the extracted kmer\n",
    "    return kmer_index\n",
    "\n",
    "## a dictionary with keys all the possible k-mers and values the starting positions of these k-mers in the query sequence\n",
    "\n",
    "\n",
    "\n",
    "## When a 5-mer from the target sequence (let's say it starts at position j) matches a 5-mer from the query sequence (let's say it starts at position i), \n",
    "## this match implies a potential alignment.\n",
    "\n",
    "## The \"diagonal\" for this match is j - i = 1 - 3 = -2.\n",
    "\n",
    "## The value associated with that key (in S dictionary) is the count of k-mer matches found on that particular diagonal.\n",
    "## when a diagonal key in S is a high count it means that many k-mer matches fall on that specific diagonal. (dense concentration of short, exact matches)\n",
    "\n",
    "\n",
    "## The crucial point is that FastA doesn't initially try to distinguish between individual alignments for a given diagonal. \n",
    "## Instead, it treats all k-mer matches that fall on the same diagonal as evidence for a single, potentially continuous, ungapped alignment.\n",
    "## It's about identifying \"regions of high density\" of matches, not pinpointing exact individual alignments at this stage.\n",
    "\n",
    "\n",
    "\n",
    "# Step 2: Score diagonals for a target sequence\n",
    "def score_diagonals(target, kmer_index, k):\n",
    "    S = defaultdict(int)\n",
    "    for j in range(len(target) - k + 1):\n",
    "        kmer = target[j:j + k]\n",
    "        if kmer in kmer_index: ## checks if the k-mer exists in the query sequence\n",
    "            for i in kmer_index[kmer]: ## iterates through all the starting positions (i) where that k-mer appeared in the query\n",
    "                diag = j - i ## represents the offset between the start position of the k-mer in the target sequence (j) and the start position in the query sequence (i). \n",
    "                             ## Consistent diagonals indicate regions of similarity.\n",
    "                S[diag] += 1\n",
    "    return S\n",
    "\n",
    "\n",
    "\n",
    "\n",
    "## The filter_and_join_diagonals step then reinforces this. It takes these individual diagonal scores and \n",
    "## looks for sequences of strong diagonals that are close to each other (within the g gap parameter). \n",
    "## This process implicitly \"builds\" a larger, more comprehensive alignment region.\n",
    "\n",
    "\n",
    "# Step 3: Filter and join diagonals\n",
    "def filter_and_join_diagonals(S, m, g): ## significant regions of similarity might be broken by gaps. FastA attempts to join nearby \"good\" diagonals if the gap between them is small.\n",
    "    diagonals = sorted([d for d in S if S[d] >= m]) ## This line filters the S dictionary to keep only those diagonals whose scores are greater than or equal to m. It then sorts these filtered diagonals.\n",
    "    regions = []\n",
    "    \n",
    "    if not diagonals:\n",
    "        return ('No match')\n",
    "    \n",
    "    current_region = [diagonals[0]] ## Start with the first diagonal in the sorted list\n",
    "    for d in diagonals[1:]: ## Iterates through the sorted diagonals, starting from the second one.\n",
    "        if d - current_region[-1] <= g: ## It checks if the current diagonal d is \"close enough\" to the last diagonal in current_region\n",
    "            current_region.append(d)\n",
    "        else: ## If the gap is too large, it means the current diagonal starts a new potential region\n",
    "            # Score this region\n",
    "            region_score = sum(S[x] for x in current_region) ## This line calculates the total score for the current region by summing the scores of all diagonals in current_region.\n",
    "            regions.append(region_score)\n",
    "            current_region = [d] ## Start a new region with the current diagonal d (which is not close enough to the previous one)\n",
    "    \n",
    "    # Add the last region\n",
    "    region_score = sum(S[x] for x in current_region)\n",
    "    regions.append(region_score)\n",
    "    \n",
    "    return max(regions) if regions else 'No regions found' ## Returns the maximum score among all regions found, or a message if no regions were found.\n",
    "\n",
    "\n",
    "\n",
    "# Step 4: Run search over all target genes\n",
    "def search_fasta(query, fasta_file):\n",
    "    kmer_index = build_kmer_index(query, k) ## Builds the k-mer index for your query sequence once\n",
    "    results = [] ## Initializes an empty list to store the matched gene IDs and their scores.\n",
    "    required_score = int(len(query) * threshold_percent) ## Calculates the required score (to be considered a significant match) based on the length of the query sequence and the threshold percentage.\n",
    "    \n",
    "    for record in SeqIO.parse(fasta_file, \"fasta\"): ## This loop iterates through each sequence record in your FASTA file. \n",
    "        gene_id = record.id ## Extracts the gene ID from the record.\n",
    "        sequence = str(record.seq) ## Converts the sequence to a string format.\n",
    "        S = score_diagonals(sequence, kmer_index, k) ## Calls score_diagonals to get the scores for all diagonals for the current target sequence.\n",
    "        total_score = filter_and_join_diagonals(S, m, g) ## Calls filter_and_join_diagonals to find the highest scoring joined region for the current target.\n",
    "        \n",
    "        if total_score >= required_score: ## Checks if the total_score for this target sequence meets the defined threshold.\n",
    "            results.append((gene_id, total_score))\n",
    "    \n",
    "    # Sort by total_score\n",
    "    results.sort(key=lambda x: x[1], reverse=True) ## Sorts the results list (gene names) in descending order based on the total_score\n",
    "    return results\n"
   ]
  },
  {
   "cell_type": "code",
   "execution_count": 21,
   "id": "1e10c37d",
   "metadata": {},
   "outputs": [],
   "source": [
    "for record in SeqIO.parse('data/all_yeast_genes_minplus1k.fa', \"fasta\"):\n",
    "    gene_id = record.id\n",
    "    sequence = str(record.seq)\n",
    "    #\n",
    "    # print(sequence)"
   ]
  },
  {
   "cell_type": "markdown",
   "id": "1c4883bf",
   "metadata": {},
   "source": [
    "- Use the most common k-mers instead of the full k-mers list:\n",
    "\n",
    "For example, you could count the occurrences of each k-mer in the query and only include those k-mers that appear above a certain frequency in kmer_index"
   ]
  },
  {
   "cell_type": "code",
   "execution_count": null,
   "id": "86aeb2af",
   "metadata": {},
   "outputs": [],
   "source": [
    "# Inside build_kmer_index, after building kmer_index initially:\n",
    "# You could add a step to filter based on frequency, e.g.:\n",
    "# from collections import Counter\n",
    "# kmer_counts = Counter(query[i:i+k] for i in range(len(query) - k + 1))\n",
    "# frequent_kmers = {kmer for kmer, count in kmer_counts.items() if count > some_threshold}\n",
    "#\n",
    "# Then modify score_diagonals to check 'if kmer in frequent_kmers' first,\n",
    "# or rebuild kmer_index to only contain frequent k-mers."
   ]
  },
  {
   "cell_type": "markdown",
   "id": "2d408007",
   "metadata": {},
   "source": [
    "This is a **trade-off**. While it can speed up the process, it might cause you to miss some legitimate matches if the significant k-mers are not among the \"most common\" ones."
   ]
  },
  {
   "cell_type": "markdown",
   "id": "c0f3b57c",
   "metadata": {},
   "source": [
    "- Increase the size of k:"
   ]
  },
  {
   "cell_type": "markdown",
   "id": "2ad4be3b",
   "metadata": {},
   "source": [
    "When k is larger, the probability of a random k-mer match decreases significantly. This means that when you do find a match, it's more likely to be biologically meaningful and less likely to be by chance. This reduces the number of \"spurious\" (false positive) k-mer matches that score_diagonals has to process.\n",
    "\n",
    "A larger k leads to a smaller number of unique k-mers (for a given sequence length), as each k-mer is longer and less likely to repeat frequently. This can result in a smaller kmer_index, which can be faster to build and search."
   ]
  },
  {
   "cell_type": "markdown",
   "id": "7476945d",
   "metadata": {},
   "source": [
    "**trade-off** : While increasing k makes the search more specific (fewer false positives), it also makes it less sensitive. You might miss matches where the sequence similarity is lower or involves more insertions/deletions, as finding long exact k-mer matches becomes harder."
   ]
  }
 ],
 "metadata": {
  "kernelspec": {
   "display_name": "base",
   "language": "python",
   "name": "python3"
  },
  "language_info": {
   "codemirror_mode": {
    "name": "ipython",
    "version": 3
   },
   "file_extension": ".py",
   "mimetype": "text/x-python",
   "name": "python",
   "nbconvert_exporter": "python",
   "pygments_lexer": "ipython3",
   "version": "3.12.2"
  }
 },
 "nbformat": 4,
 "nbformat_minor": 5
}
