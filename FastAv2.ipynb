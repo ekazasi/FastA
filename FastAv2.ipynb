{
 "cells": [
  {
   "cell_type": "markdown",
   "id": "dd3470fd",
   "metadata": {},
   "source": [
    "## BC205 Exercise 3: Implementing a simplified version of the FastA algorithm\n",
    "---\n",
    "\n",
    "**Author:** Eftychia Kazasi, Georgios Kousis Tsampazis\n",
    "\n",
    "In this exercise you may work in pairs or groups of three (maximum).\n",
    "You will be asked to implement the a simplified version of the FastA algorithm.\n",
    "\n",
    "For implementation purposes you should consider the following:\n",
    "\n",
    "1. Take the query sequence that you will find in this [link](https://github.com/christoforos-nikolaou/BC205/blob/master/files/query.fa) to search it against:\n",
    "2. A set of sequences that contains the total number of coding (gene) sequences of _S. cerevisiae_ that you may find [here](https://www.dropbox.com/s/ilokqlhvez6tvga/all_yeast_genes_minplus1k.fa).\n",
    "3. You are asked to implement a simplified version of the FastA algorithm using:  \n",
    "   \n",
    "   a. a simple score of +1/0 for word matches/mismatches. This means that _S[i]_ will be incremmented by +1 each time a k-mer is found.  \n",
    "\n",
    "   b. k=5 as the length of the matched word \n",
    "\n",
    "   c. m=20 as the minimum size of matched diagonals (_S[i]_) that you will keep in each search  \n",
    "\n",
    "   d. g=3 as the maximum gap size before joining regions\n",
    "   \n",
    "   e. a total score of 50% of the length of the query sequence to be used as prerequisite\n",
    "\n",
    "   e. Final outputs will consist of a list of matched sequences that fulfill the above criteria alongside with their Total Scores.\n",
    "   \n",
    "   f. Report the highest matching sequence. Which gene does it correspond to?\n",
    "\n",
    "\n",
    "Consider the following points in making the algorithm faster:  \n",
    "* Use the _most common k-mers_ instead of the full k-mers list\n",
    "* Increase the size of k.\n"
   ]
  },
  {
   "cell_type": "markdown",
   "id": "2443c875",
   "metadata": {},
   "source": [
    "### Noteboook dependencies\n",
    "*As always a conda enviroment is recommended for easier installation*"
   ]
  },
  {
   "cell_type": "code",
   "execution_count": 1,
   "id": "f70bb3d5",
   "metadata": {},
   "outputs": [
    {
     "name": "stdout",
     "output_type": "stream",
     "text": [
      "Requirement already satisfied: tqdm in /home/kousis/anaconda3/lib/python3.12/site-packages (4.66.5)\n",
      "Requirement already satisfied: Bio in /home/kousis/anaconda3/lib/python3.12/site-packages (1.7.1)\n",
      "Requirement already satisfied: biopython>=1.80 in /home/kousis/anaconda3/lib/python3.12/site-packages (from Bio) (1.85)\n",
      "Requirement already satisfied: gprofiler-official in /home/kousis/anaconda3/lib/python3.12/site-packages (from Bio) (1.0.0)\n",
      "Requirement already satisfied: mygene in /home/kousis/anaconda3/lib/python3.12/site-packages (from Bio) (3.2.2)\n",
      "Requirement already satisfied: pandas in /home/kousis/anaconda3/lib/python3.12/site-packages (from Bio) (2.2.2)\n",
      "Requirement already satisfied: pooch in /home/kousis/anaconda3/lib/python3.12/site-packages (from Bio) (1.8.2)\n",
      "Requirement already satisfied: requests in /home/kousis/anaconda3/lib/python3.12/site-packages (from Bio) (2.32.3)\n",
      "Requirement already satisfied: numpy in /home/kousis/anaconda3/lib/python3.12/site-packages (from biopython>=1.80->Bio) (1.26.4)\n",
      "Requirement already satisfied: biothings-client>=0.2.6 in /home/kousis/anaconda3/lib/python3.12/site-packages (from mygene->Bio) (0.4.1)\n",
      "Requirement already satisfied: python-dateutil>=2.8.2 in /home/kousis/anaconda3/lib/python3.12/site-packages (from pandas->Bio) (2.9.0.post0)\n",
      "Requirement already satisfied: pytz>=2020.1 in /home/kousis/anaconda3/lib/python3.12/site-packages (from pandas->Bio) (2024.1)\n",
      "Requirement already satisfied: tzdata>=2022.7 in /home/kousis/anaconda3/lib/python3.12/site-packages (from pandas->Bio) (2023.3)\n",
      "Requirement already satisfied: platformdirs>=2.5.0 in /home/kousis/anaconda3/lib/python3.12/site-packages (from pooch->Bio) (3.10.0)\n",
      "Requirement already satisfied: packaging>=20.0 in /home/kousis/anaconda3/lib/python3.12/site-packages (from pooch->Bio) (24.1)\n",
      "Requirement already satisfied: charset-normalizer<4,>=2 in /home/kousis/anaconda3/lib/python3.12/site-packages (from requests->Bio) (3.3.2)\n",
      "Requirement already satisfied: idna<4,>=2.5 in /home/kousis/anaconda3/lib/python3.12/site-packages (from requests->Bio) (3.7)\n",
      "Requirement already satisfied: urllib3<3,>=1.21.1 in /home/kousis/anaconda3/lib/python3.12/site-packages (from requests->Bio) (2.2.3)\n",
      "Requirement already satisfied: certifi>=2017.4.17 in /home/kousis/anaconda3/lib/python3.12/site-packages (from requests->Bio) (2025.1.31)\n",
      "Requirement already satisfied: httpx>=0.22.0 in /home/kousis/anaconda3/lib/python3.12/site-packages (from biothings-client>=0.2.6->mygene->Bio) (0.27.0)\n",
      "Requirement already satisfied: six>=1.5 in /home/kousis/anaconda3/lib/python3.12/site-packages (from python-dateutil>=2.8.2->pandas->Bio) (1.16.0)\n",
      "Requirement already satisfied: anyio in /home/kousis/anaconda3/lib/python3.12/site-packages (from httpx>=0.22.0->biothings-client>=0.2.6->mygene->Bio) (4.2.0)\n",
      "Requirement already satisfied: httpcore==1.* in /home/kousis/anaconda3/lib/python3.12/site-packages (from httpx>=0.22.0->biothings-client>=0.2.6->mygene->Bio) (1.0.2)\n",
      "Requirement already satisfied: sniffio in /home/kousis/anaconda3/lib/python3.12/site-packages (from httpx>=0.22.0->biothings-client>=0.2.6->mygene->Bio) (1.3.0)\n",
      "Requirement already satisfied: h11<0.15,>=0.13 in /home/kousis/anaconda3/lib/python3.12/site-packages (from httpcore==1.*->httpx>=0.22.0->biothings-client>=0.2.6->mygene->Bio) (0.14.0)\n",
      "Note: you may need to restart the kernel to use updated packages.\n"
     ]
    }
   ],
   "source": [
    "pip install tqdm Bio"
   ]
  },
  {
   "cell_type": "markdown",
   "id": "70b263ff",
   "metadata": {},
   "source": [
    "### Downlaod data"
   ]
  },
  {
   "cell_type": "code",
   "execution_count": 4,
   "id": "29596b83",
   "metadata": {},
   "outputs": [
    {
     "name": "stdout",
     "output_type": "stream",
     "text": [
      "Downloading query.fa ...\n"
     ]
    },
    {
     "name": "stderr",
     "output_type": "stream",
     "text": [
      "query.fa: 2.03kB [00:00, 5.90MB/s]                 \n"
     ]
    },
    {
     "name": "stdout",
     "output_type": "stream",
     "text": [
      "query.fa downloaded successfully.\n",
      "Downloading all_yeast_genes_minplus1k.fa ...\n"
     ]
    },
    {
     "name": "stderr",
     "output_type": "stream",
     "text": [
      "all_yeast_genes_minplus1k.fa: 11.6MB [00:01, 6.66MB/s]"
     ]
    },
    {
     "name": "stdout",
     "output_type": "stream",
     "text": [
      "all_yeast_genes_minplus1k.fa downloaded successfully.\n",
      "Files are ready.\n"
     ]
    },
    {
     "name": "stderr",
     "output_type": "stream",
     "text": [
      "\n"
     ]
    }
   ],
   "source": [
    "import os\n",
    "import requests\n",
    "from tqdm import tqdm\n",
    "\n",
    "# Create the data directory if it doesn't exist.\n",
    "data_dir = \"./data_tmp\"\n",
    "os.makedirs(data_dir, exist_ok=True)\n",
    "files_to_download = {\"query.fa\": \"https://raw.githubusercontent.com/christoforos-nikolaou/BC205/master/files/query.fa\",\n",
    "                    \"all_yeast_genes_minplus1k.fa\": \"https://dl.dropboxusercontent.com/scl/fi/85mp7f5iwirkjtjd3vwcg/all_yeast_genes_minplus1k.fa?rlkey=i4etsyv8zmia2wnagm07nym51&st=am73dxei\"}\n",
    "\n",
    "def download_file(url, file_path):\n",
    "    response = requests.get(url, stream=True)\n",
    "    response.raise_for_status()  # Raise an error for bad status codes.\n",
    "    \n",
    "    total_size = int(response.headers.get('content-length', 0))\n",
    "    block_size = 1024  # 1 Kilobyte blocks\n",
    "\n",
    "    with open(file_path, 'wb') as file, tqdm(\n",
    "            total=total_size, unit='B', unit_scale=True, desc=os.path.basename(file_path)\n",
    "        ) as progress_bar:\n",
    "        for data in response.iter_content(block_size):\n",
    "            file.write(data)\n",
    "            progress_bar.update(len(data))\n",
    "\n",
    "for filename, url in files_to_download.items():\n",
    "    file_path = os.path.join(data_dir, filename)\n",
    "    if not os.path.exists(file_path):\n",
    "        print(f\"Downloading {filename} ...\")\n",
    "        try:\n",
    "            download_file(url, file_path)\n",
    "            print(f\"{filename} downloaded successfully.\")\n",
    "        except Exception as e:\n",
    "            print(f\"Error downloading {filename}: {e}\")\n",
    "    else:\n",
    "        print(f\"{filename} already exists. Skipping download.\")\n",
    "print(\"Files are ready.\")\n"
   ]
  },
  {
   "cell_type": "markdown",
   "id": "fa4da489",
   "metadata": {},
   "source": [
    "### Open the sequences"
   ]
  },
  {
   "cell_type": "code",
   "execution_count": null,
   "id": "ab3b52e9",
   "metadata": {},
   "outputs": [],
   "source": [
    "from collections import defaultdict, Counter\n",
    "from Bio import SeqIO\n",
    "\n",
    "# Configuration\n",
    "QUERY_FILE = 'data_tmp/query.fa'                  # FASTA of the query sequence\n",
    "DB_FILE = 'data_tmp/all_yeast_genes_minplus1k.fa' # Yeast 'database'\n",
    "\n",
    "# Load query sequence \n",
    "query_record = SeqIO.read(QUERY_FILE, 'fasta') \n",
    "query = str(query_record.seq)     "
   ]
  },
  {
   "cell_type": "markdown",
   "id": "fda1ab4d",
   "metadata": {},
   "source": [
    "### FastA Function\n",
    "**Function:** `fasta_top_kmers(query_seq, db_file, n)`\n",
    "\n",
    "**Purpose:**  \n",
    "Rapidly finding local similarities between a “query” sequence and large sequence databases.\n",
    "\n",
    "**Parameters:** \n",
    "- `query_seq`: DNA/protein sequence string\n",
    "- `db_file`: path to FASTA database file\n",
    "- `k`:  kmer seeding for bulk matching\n",
    "- `n`:  number of most common k-mers to use or all if u want to use all kmers\n",
    "- `m`: valid diagonals hit (How much kmer matches should a diganol have to be consdiered valid) \n",
    "- `score_threshold`: score of the covering bases in valid diagonal applied to be considered a valid hit to the db \n",
    "\n",
    "\n",
    "**Returns:**  \n",
    "1. **Top matches**  \n",
    "   - List of tuples (sequence_id, total_score), sorted by descending score, so the sequnces id that managed to pass the `score_threshold`\n",
    "\n",
    "**Usage Example**  \n",
    "```python\n",
    "fasta_top_kmers(query, DB_FILE, n_top)\n",
    "```"
   ]
  },
  {
   "cell_type": "code",
   "execution_count": 77,
   "id": "f1543698",
   "metadata": {},
   "outputs": [],
   "source": [
    "from tqdm import tqdm\n",
    "def fasta_top_kmers(query_seq, db_file,k,n,m,score_threshold):\n",
    "    # Generate all k-mers from the query\n",
    "    all_kmers = [query_seq[i:i+k] for i in range(len(query_seq) - k + 1)]\n",
    "    if n==\"all\":\n",
    "        top_kmers=all_kmers\n",
    "    else:\n",
    "        # Count frequencies and pick top n\n",
    "        kmer_counts = Counter(all_kmers)\n",
    "        top_kmers = [km for km, _ in kmer_counts.most_common(n)]\n",
    "\n",
    "    # Map each selected k-mer to its positions in the query\n",
    "    query_positions = defaultdict(list)\n",
    "    for i in range(len(query_seq) - k + 1):\n",
    "        km = query_seq[i:i+k]\n",
    "        if km in top_kmers:\n",
    "            query_positions[km].append(i)\n",
    "\n",
    "    results = []\n",
    "    total_records = sum(1 for _ in SeqIO.parse(db_file, 'fasta')) # This is for tqdm since .parse in a generator \n",
    "    # Scan database sequences\n",
    "    for rec in tqdm(SeqIO.parse(db_file, 'fasta'), total=total_records, desc=\"Scanning sequences\"):\n",
    "        seq = str(rec.seq)\n",
    "        diag_counts = defaultdict(int)\n",
    "        # For each selected k-mer, find matches and update diagonal counts\n",
    "        for km, q_pos_list in query_positions.items():\n",
    "            start = 0\n",
    "            while True:\n",
    "                idx = seq.find(km, start)\n",
    "                if idx == -1:\n",
    "                    break\n",
    "                for q_pos in q_pos_list:\n",
    "                    diag_counts[idx - q_pos] += 1\n",
    "                start = idx + 1\n",
    "        # Sum counts on diagonals meeting minimum m\n",
    "        total_score = sum(count *k for count in diag_counts.values() if count >= m)\n",
    "        # Keep sequences above threshold\n",
    "        if total_score >= score_threshold:\n",
    "            results.append((rec.id, total_score))\n",
    "\n",
    "    # Sort by score descending\n",
    "    return sorted(results, key=lambda x: x[1], reverse=True)"
   ]
  },
  {
   "cell_type": "markdown",
   "id": "29859e01",
   "metadata": {
    "vscode": {
     "languageId": "bat"
    }
   },
   "source": [
    "#### Execution: call the `fasta_top_kmers` and print results"
   ]
  },
  {
   "cell_type": "code",
   "execution_count": 78,
   "id": "e5937e86",
   "metadata": {},
   "outputs": [
    {
     "name": "stdout",
     "output_type": "stream",
     "text": [
      "Running FASTA variant with top all k-mers (k=5, m=20, threshold=1008.5)\n"
     ]
    },
    {
     "name": "stderr",
     "output_type": "stream",
     "text": [
      "Scanning sequences: 100%|██████████| 5765/5765 [00:25<00:00, 227.75it/s]"
     ]
    },
    {
     "name": "stdout",
     "output_type": "stream",
     "text": [
      "\n",
      "Top matches (seq_id:score);\n",
      "YMR021C:8985\n",
      "\n",
      "Highest match: YMR021C with score 8985\n"
     ]
    },
    {
     "name": "stderr",
     "output_type": "stream",
     "text": [
      "\n"
     ]
    }
   ],
   "source": [
    "\n",
    "k = 5   # k-mer length\n",
    "m = 20  # minimum diagonal matches\n",
    "q_len = len(query)\n",
    "score_threshold = 0.5 * q_len # score threhold\n",
    "n_top = \"all\" # Top kmers in this case we are going to use all kmers\n",
    "print(f\"Running FASTA variant with top {n_top} k-mers (k={k}, m={m}, threshold={score_threshold:.1f})\")\n",
    "hits = fasta_top_kmers(query, DB_FILE, k,n_top,m,score_threshold)\n",
    "\n",
    "if not hits:\n",
    "    print(\"No matches found above threshold.\")\n",
    "else:\n",
    "    print(\"\\nTop matches (seq_id:score);\")\n",
    "    for seq_id, score in hits[:10]:\n",
    "        print(f\"{seq_id}:{score}\")\n",
    "    top_id, top_score = hits[0]\n",
    "    print(f\"\\nHighest match: {top_id} with score {top_score}\")"
   ]
  },
  {
   "cell_type": "markdown",
   "id": "dcc6850a",
   "metadata": {},
   "source": [
    "---\n",
    "### Highest match: YMR021C with score 81400\n",
    "---"
   ]
  },
  {
   "cell_type": "markdown",
   "id": "f8a9a859",
   "metadata": {},
   "source": [
    "### Plotting topKmers vs Coverage \n",
    "**selecting most frequent kmers**\n"
   ]
  },
  {
   "cell_type": "code",
   "execution_count": null,
   "id": "627a6e9f",
   "metadata": {},
   "outputs": [
    {
     "data": {
      "image/png": "[encoded data removed]",
      "text/plain": [
       "<Figure size 640x480 with 1 Axes>"
      ]
     },
     "metadata": {},
     "output_type": "display_data"
    }
   ],
   "source": [
    "import matplotlib.pyplot as plt\n",
    "from collections import Counter\n",
    "\n",
    "# Count all k-mers in query\n",
    "all_kmers = [query[i:i+k] for i in range(q_len - k + 1)]\n",
    "kmer_counts = Counter(all_kmers)\n",
    "unique_kmers = len(kmer_counts)\n",
    "\n",
    "# Define n values up to total unique k-mers\n",
    "ns = sorted([n for n in [10, 50, 100, 200, 500,600] if n <= unique_kmers])\n",
    "\n",
    "# Compute coverage for each n\n",
    "coverages = []\n",
    "for n in ns:\n",
    "    top_kmers = [km for km, _ in kmer_counts.most_common(n)]\n",
    "    covered = [False] * q_len\n",
    "    for km in top_kmers:\n",
    "        start = 0\n",
    "        while True:\n",
    "            idx = query.find(km, start)\n",
    "            if idx == -1:\n",
    "                break\n",
    "            for pos in range(idx, idx + k):\n",
    "                covered[pos] = True\n",
    "            start = idx + 1\n",
    "    coverage_percent = sum(covered) / q_len * 100\n",
    "    coverages.append(coverage_percent)\n",
    "\n",
    "# Plot the results\n",
    "plt.figure()\n",
    "plt.plot(ns, coverages, marker='o')\n",
    "plt.xlabel('Number of Top k-mers (n)')\n",
    "plt.ylabel('Query Coverage (%)')\n",
    "plt.title('Top-n k-mers vs. Query Sequence Coverage')\n",
    "plt.tight_layout()\n",
    "plt.show()\n"
   ]
  },
  {
   "cell_type": "markdown",
   "id": "89f372e9",
   "metadata": {},
   "source": [
    "##### We can see that with just **150** *5-mers* we cover almost **80%** of the sequence thus will have somewhat sensitive resutls "
   ]
  },
  {
   "cell_type": "code",
   "execution_count": 60,
   "id": "863ae80e",
   "metadata": {},
   "outputs": [
    {
     "name": "stdout",
     "output_type": "stream",
     "text": [
      "Running FASTA variant with top 150 k-mers (k=5, m=20, threshold=1008.5)\n",
      "\n",
      "Top matches (seq_id:score);\n",
      "YMR021C:3255\n",
      "\n",
      "Highest match: YMR021C with score 3255\n"
     ]
    }
   ],
   "source": [
    "\n",
    "k = 5   # k-mer length\n",
    "m = 20  # minimum diagonal matches\n",
    "q_len = len(query)\n",
    "score_threshold = 0.5 * q_len # score threhold\n",
    "n_top = 150 # Top kmers in this case we are going to use all kmers\n",
    "print(f\"Running FASTA variant with top {n_top} k-mers (k={k}, m={m}, threshold={score_threshold:.1f})\")\n",
    "hits = fasta_top_kmers(query, DB_FILE, k,n_top,m,score_threshold)\n",
    "\n",
    "if not hits:\n",
    "    print(\"No matches found above threshold.\")\n",
    "else:\n",
    "    print(\"\\nTop matches (seq_id:score);\")\n",
    "    for seq_id, score in hits[:10]:\n",
    "        print(f\"{seq_id}:{score}\")\n",
    "    top_id, top_score = hits[0]\n",
    "    print(f\"\\nHighest match: {top_id} with score {top_score}\")"
   ]
  },
  {
   "cell_type": "markdown",
   "id": "9c2e0d1f",
   "metadata": {},
   "source": [
    "### Increasing kmer size "
   ]
  },
  {
   "cell_type": "code",
   "execution_count": 80,
   "id": "d9fe3495",
   "metadata": {},
   "outputs": [
    {
     "name": "stdout",
     "output_type": "stream",
     "text": [
      "Running FASTA variant with top all k-mers (k=50, m=20, threshold=1008.5)\n"
     ]
    },
    {
     "name": "stderr",
     "output_type": "stream",
     "text": [
      "Scanning sequences: 100%|██████████| 5765/5765 [00:45<00:00, 125.74it/s]"
     ]
    },
    {
     "name": "stdout",
     "output_type": "stream",
     "text": [
      "\n",
      "Top matches (seq_id:score);\n",
      "YMR021C:81400\n",
      "\n",
      "Highest match: YMR021C with score 81400\n"
     ]
    },
    {
     "name": "stderr",
     "output_type": "stream",
     "text": [
      "\n"
     ]
    }
   ],
   "source": [
    "\n",
    "k = 50   # k-mer length\n",
    "m = 20  # minimum diagonal matches\n",
    "q_len = len(query)\n",
    "score_threshold = 0.5 * q_len # score threhold\n",
    "n_top = 'all' # Top kmers in this case we are going to use all kmers\n",
    "print(f\"Running FASTA variant with top {n_top} k-mers (k={k}, m={m}, threshold={score_threshold:.1f})\")\n",
    "hits = fasta_top_kmers(query, DB_FILE, k,n_top,m,score_threshold)\n",
    "\n",
    "if not hits:\n",
    "    print(\"No matches found above threshold.\")\n",
    "else:\n",
    "    print(\"\\nTop matches (seq_id:score);\")\n",
    "    for seq_id, score in hits[:10]:\n",
    "        print(f\"{seq_id}:{score}\")\n",
    "    top_id, top_score = hits[0]\n",
    "    print(f\"\\nHighest match: {top_id} with score {top_score}\")"
   ]
  },
  {
   "cell_type": "markdown",
   "id": "3afa7d0e",
   "metadata": {},
   "source": [
    "### This run very slowly, probably because of overehading (big kmers means many unique kmers -overhead- and more epenxsive searches)"
   ]
  },
  {
   "cell_type": "code",
   "execution_count": 69,
   "id": "59af349d",
   "metadata": {},
   "outputs": [
    {
     "data": {
      "image/png": "[encoded data removed]",
      "text/plain": [
       "<Figure size 640x480 with 1 Axes>"
      ]
     },
     "metadata": {},
     "output_type": "display_data"
    }
   ],
   "source": [
    "import matplotlib.pyplot as plt\n",
    "from collections import Counter\n",
    "\n",
    "k = 50\n",
    "\n",
    "# Count all k-mers in query\n",
    "all_kmers = [query[i:i+k] for i in range(q_len - k + 1)]\n",
    "kmer_counts = Counter(all_kmers)\n",
    "unique_kmers = len(kmer_counts)\n",
    "\n",
    "# Define n values up to total unique k-mers\n",
    "ns = sorted([n for n in [10, 50, 100, 200, 500,600,800,1000,1400,1600] if n <= unique_kmers])\n",
    "\n",
    "# Compute coverage for each n\n",
    "coverages = []\n",
    "for n in ns:\n",
    "    top_kmers = [km for km, _ in kmer_counts.most_common(n)]\n",
    "    covered = [False] * q_len\n",
    "    for km in top_kmers:\n",
    "        start = 0\n",
    "        while True:\n",
    "            idx = query.find(km, start)\n",
    "            if idx == -1:\n",
    "                break\n",
    "            for pos in range(idx, idx + k):\n",
    "                covered[pos] = True\n",
    "            start = idx + 1\n",
    "    coverage_percent = sum(covered) / q_len * 100\n",
    "    coverages.append(coverage_percent)\n",
    "\n",
    "# Plot the results\n",
    "plt.figure()\n",
    "plt.plot(ns, coverages, marker='o',color='green')\n",
    "plt.xlabel('Number of Top k-mers (n)')\n",
    "plt.ylabel('Query Coverage (%)')\n",
    "plt.title('Top-n k-mers vs. Query Sequence Coverage')\n",
    "plt.tight_layout()\n",
    "plt.show()\n"
   ]
  },
  {
   "cell_type": "markdown",
   "id": "228ae612",
   "metadata": {},
   "source": [
    "#### As we can see we need far more Top-50mers to reach ~80% meaning that our analysis will likely be less sensitive than small k's (duh)"
   ]
  },
  {
   "cell_type": "code",
   "execution_count": 79,
   "id": "f8eaa5c1",
   "metadata": {},
   "outputs": [
    {
     "name": "stdout",
     "output_type": "stream",
     "text": [
      "Running FASTA variant with top 300 k-mers (k=50, m=20, threshold=1008.5)\n"
     ]
    },
    {
     "name": "stderr",
     "output_type": "stream",
     "text": [
      "Scanning sequences: 100%|██████████| 5765/5765 [00:07<00:00, 796.61it/s]"
     ]
    },
    {
     "name": "stdout",
     "output_type": "stream",
     "text": [
      "\n",
      "Top matches (seq_id:score);\n",
      "YMR021C:3850\n",
      "\n",
      "Highest match: YMR021C with score 3850\n"
     ]
    },
    {
     "name": "stderr",
     "output_type": "stream",
     "text": [
      "\n"
     ]
    }
   ],
   "source": [
    "\n",
    "k = 50   # k-mer length\n",
    "m = 20  # minimum diagonal matches\n",
    "q_len = len(query)\n",
    "score_threshold = 0.5 * q_len # score threhold\n",
    "n_top = 300 # Top kmers in this case we are going to use all kmers\n",
    "print(f\"Running FASTA variant with top {n_top} k-mers (k={k}, m={m}, threshold={score_threshold:.1f})\")\n",
    "hits = fasta_top_kmers(query, DB_FILE, k,n_top,m,score_threshold)\n",
    "\n",
    "if not hits:\n",
    "    print(\"No matches found above threshold.\")\n",
    "else:\n",
    "    print(\"\\nTop matches (seq_id:score);\")\n",
    "    for seq_id, score in hits[:10]:\n",
    "        print(f\"{seq_id}:{score}\")\n",
    "    top_id, top_score = hits[0]\n",
    "    print(f\"\\nHighest match: {top_id} with score {top_score}\")"
   ]
  },
  {
   "cell_type": "markdown",
   "id": "974b0f88",
   "metadata": {},
   "source": [
    "We can see that with just 300 50-mers we manage to get the same results but since we include only 15% of the sequence in realloty our analysis is not so sensitive"
   ]
  },
  {
   "cell_type": "markdown",
   "id": "d8591bce",
   "metadata": {},
   "source": [
    "### Benchmarking"
   ]
  },
  {
   "cell_type": "code",
   "execution_count": null,
   "id": "df9f6673",
   "metadata": {},
   "outputs": [
    {
     "name": "stdout",
     "output_type": "stream",
     "text": [
      "Config       Runtime(s)       any hits?\n",
      "k=5, n=all      25.3452            True\n",
      "k=5, n=150       6.6117            True\n",
      "k=5, n=300      11.3466            True\n",
      "k=5, n=400      14.2511            True\n",
      "k=5, n=600      19.6909            True\n",
      "k=50, n=all     45.4305            True\n",
      "k=50, n=150      3.6040           False\n",
      "k=50, n=300      7.0870            True\n",
      "k=50, n=400      9.4103            True\n",
      "k=50, n=600     13.9667            True\n"
     ]
    },
    {
     "data": {
      "image/png": "[encoded data removed]",
      "text/plain": [
       "<Figure size 640x480 with 1 Axes>"
      ]
     },
     "metadata": {},
     "output_type": "display_data"
    }
   ],
   "source": [
    "import time\n",
    "# parameters\n",
    "ks = [5, 50]\n",
    "ns = ['all', 150, 300,400,600]\n",
    "\n",
    "\n",
    "# Testing\n",
    "labels = []\n",
    "times  = []\n",
    "hits_all = []\n",
    "\n",
    "for k in ks:\n",
    "    for n in ns:\n",
    "        label = f\"k={k}, n={n}\"\n",
    "        t0 = time.time()\n",
    "        hitlist = fasta_top_kmers(query, DB_FILE, k, n, m, score_threshold)\n",
    "        dt = time.time() - t0\n",
    "        flag = any(hitlist)\n",
    "        labels.append(label)\n",
    "        times.append(dt)\n",
    "        hits_all.append(flag)\n",
    "\n",
    "# print summary\n",
    "print(f\"{'Config':<12} {'Runtime(s)':>10}  {'any hits?':>14}\")\n",
    "for lbl, dt, fl in zip(labels, times, hits_all):\n",
    "    print(f\"{lbl:<12} {dt:10.4f}  {str(fl):>14}\")\n",
    "\n",
    "plt.figure()\n",
    "for i,k in enumerate(ks):\n",
    "    x = list(range(len(ns)))        \n",
    "    y = times[i*len(ns):(i+1)*len(ns)]\n",
    "    plt.plot(x, y, marker='o', label=f'k={k}')\n",
    "plt.xticks(x, ns)\n",
    "plt.xlabel(\"Top-n k-mers used ('all' = every k-mer)\")\n",
    "plt.ylabel(\"Runtime (s)\")\n",
    "plt.title(\"FASTA-Top-Kmers Benchmark\")\n",
    "plt.legend()\n",
    "plt.tight_layout()\n",
    "plt.show()"
   ]
  },
  {
   "cell_type": "markdown",
   "id": "e1188d9a",
   "metadata": {},
   "source": [
    "---\n",
    "### Results\n",
    "Benchmarking clearly demonstrates how seed selection significantly impacts both runtime performance and query coverage. When utilizing **all** possible k-mers, runtimes dramatically increase, especially with larger *k* values. For instance, runtimes escalate from 25.3 seconds at *k*=5 to 45.4 seconds at *k*=50 due to the exhaustive search of every possible substring and increased computational overhead for longer k-mers.\n",
    "\n",
    "In contrast, selecting only the **top 300** most frequent seeds reveals a stark difference in coverage efficiency. With shorter 5-mers, this strategy successfully covers over **90%** of the query's bases. However, coverage drastically diminishes with longer 50-mers, dropping below **15%**, as fewer long k-mers appear frequently enough to be effectively used.\n",
    "\n",
    "Choosing too few seeds (e.g., the top 150) significantly accelerates runtimes—down to 6.6 seconds for 5-mers and 3.6 seconds for 50-mers—but this approach compromises accuracy, especially for larger k-mers. The strict diagonal-count threshold (e.g., 20) paired with limited seed choice results in inadequate coverage, missing matches for longer k-mers.\n",
    "\n",
    "An intermediate strategy, such as employing approximately the top 300 seeds with shorter k-mer lengths, achieves an optimal balance. Although smaller k-mers inherently introduce greater ambiguity, using a strict diagonal-count threshold (\"m\") enhances sensitivity by effectively leveraging frequent \"good\" alignment, thus maintaining acceptable runtimes while significantly improving coverage(safer).    \n",
    "\n",
    "* big `m` -> + sensitivity \n",
    "* big `k` -> + sensitivity\n",
    "* So we have already fix for sensitivity\n",
    "\n",
    "\n",
    "#### In all cases when we have a hit, it is **YMR021C** so this is our match (highest -only- matching sequence)"
   ]
  }
 ],
 "metadata": {
  "kernelspec": {
   "display_name": "Python 3",
   "language": "python",
   "name": "python3"
  },
  "language_info": {
   "codemirror_mode": {
    "name": "ipython",
    "version": 3
   },
   "file_extension": ".py",
   "mimetype": "text/x-python",
   "name": "python",
   "nbconvert_exporter": "python",
   "pygments_lexer": "ipython3",
   "version": "3.12.2"
  }
 },
 "nbformat": 4,
 "nbformat_minor": 5
}
